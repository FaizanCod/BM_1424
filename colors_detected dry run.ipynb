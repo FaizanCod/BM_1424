{
 "cells": [
  {
   "cell_type": "code",
   "execution_count": 6,
   "id": "c477e552",
   "metadata": {},
   "outputs": [],
   "source": [
    "import cv2\n",
    "import numpy as np"
   ]
  },
  {
   "cell_type": "code",
   "execution_count": 7,
   "id": "50a3192a",
   "metadata": {},
   "outputs": [],
   "source": [
    "def colors_detected(img):\n",
    "    \"\"\"\n",
    "    Purpose:\n",
    "    ---\n",
    "    This function takes the image as argument and returns a dictionary\n",
    "    denoting the color of the shapes in the image.\n",
    "\n",
    "    Input Arguments:\n",
    "    ---\n",
    "    `img` : [ numpy array ]\n",
    "            numpy array of image returned by cv2 library\n",
    "\n",
    "    Returns:\n",
    "    ---\n",
    "    `detected_colors` : {dictionary}\n",
    "            dictionary containing details of colors present in image\n",
    "    \"\"\"\n",
    "    detected_colors = {}\n",
    "\n",
    "    image = cv2.imread(img)                \n",
    "    # Convert BGR to HSV\n",
    "    hsv_frame = cv2.cvtColor(image, cv2.COLOR_BGR2HSV)\n",
    "\n",
    "    # defining color ranges\n",
    "\n",
    "    # red color range\n",
    "    low_red = np.array([0, 150, 50], np.uint8)\n",
    "    high_red = np.array([10, 255, 255], np.uint8)\n",
    "    red_mask = cv2.inRange(hsv_frame, low_red, high_red)\n",
    "\n",
    "    # blue color range\n",
    "    low_blue = np.array([94, 80, 2], np.uint8)\n",
    "    high_blue = np.array([126, 255, 255], np.uint8)\n",
    "    blue_mask = cv2.inRange(hsv_frame, low_blue, high_blue)\n",
    "\n",
    "    # green color range\n",
    "    low_green = np.array([36, 25, 25], np.uint8)\n",
    "    high_green = np.array([70, 255, 255], np.uint8)\n",
    "    green_mask = cv2.inRange(hsv_frame, low_green, high_green)\n",
    "\n",
    "    # orange color range\n",
    "    low_orange = np.array([15, 150, 50], np.uint8)\n",
    "    high_orange = np.array([25, 255, 255], np.uint8)\n",
    "    orange_mask = cv2.inRange(hsv_frame, low_orange, high_orange)\n",
    "\n",
    "    #Morphological Transform: Dilation, to remove noises from the images and performing bitwise_and function to specifically detect a particular color.\n",
    "\n",
    "    kernal = np.ones((6, 6), \"uint8\")\n",
    "      \n",
    "    # For red color\n",
    "    red_mask = cv2.dilate(red_mask, kernal)\n",
    "    res_red = cv2.bitwise_and(image, image, mask = red_mask)\n",
    "      \n",
    "    # For green color\n",
    "    green_mask = cv2.dilate(green_mask, kernal)\n",
    "    res_green = cv2.bitwise_and(image, image, mask = green_mask)\n",
    "      \n",
    "    # For blue color\n",
    "    blue_mask = cv2.dilate(blue_mask, kernal)\n",
    "    res_blue = cv2.bitwise_and(image, image, mask = blue_mask)\n",
    "\n",
    "    # For orange color\n",
    "    orange_mask = cv2.dilate(orange_mask, kernal)\n",
    "    res_orange = cv2.bitwise_and(image, image, mask = orange_mask)\n",
    "\n",
    "    # Contours for color detection\n",
    "\n",
    "    # Creating contour to track red color\n",
    "    red_contours, _ = cv2.findContours(red_mask, cv2.RETR_TREE, cv2.CHAIN_APPROX_SIMPLE)\n",
    "\n",
    "    # Creating contour to track green color\n",
    "    green_contours, _ = cv2.findContours(green_mask, cv2.RETR_TREE, cv2.CHAIN_APPROX_SIMPLE)\n",
    "  \n",
    "    # Creating contour to track blue color\n",
    "    blue_contours, _ = cv2.findContours(blue_mask, cv2.RETR_TREE, cv2.CHAIN_APPROX_SIMPLE)\n",
    "        \n",
    "    # Creating contour to track orange color\n",
    "    orange_contours, _ = cv2.findContours(orange_mask, cv2.RETR_TREE, cv2.CHAIN_APPROX_SIMPLE)\n",
    "\n",
    "    # RED\n",
    "    for contour in red_contours:\n",
    "        area = cv2.contourArea(contour)\n",
    "        if(area > 300):\n",
    "            M = cv2.moments(contour)\n",
    "            if M['m00'] != 0.0:\n",
    "                cx = int(M['m10']/M['m00'])\n",
    "                cy = int(M['m01']/M['m00'])\n",
    "            detected_colors[cx,cy] = ['Red']\n",
    "    \n",
    "    #GREEN\n",
    "    for contour in green_contours:\n",
    "        area = cv2.contourArea(contour)\n",
    "        if(area > 300):\n",
    "            M = cv2.moments(contour)\n",
    "            if M['m00'] != 0.0:\n",
    "                cx = int(M['m10']/M['m00'])\n",
    "                cy = int(M['m01']/M['m00'])\n",
    "            detected_colors[cx,cy] = ['Green']\n",
    "        \n",
    "    #BLUE\n",
    "    for contour in blue_contours:\n",
    "        area = cv2.contourArea(contour)\n",
    "        if(area > 300):\n",
    "            M = cv2.moments(contour)\n",
    "            if M['m00'] != 0.0:\n",
    "                cx = int(M['m10']/M['m00'])\n",
    "                cy = int(M['m01']/M['m00'])\n",
    "            detected_colors[cx,cy] = ['Blue']\n",
    "        \n",
    "    #ORANGE\n",
    "    for contour in orange_contours:\n",
    "        area = cv2.contourArea(contour)\n",
    "        if(area > 300):\n",
    "            M = cv2.moments(contour)\n",
    "            if M['m00'] != 0.0:\n",
    "                cx = int(M['m10']/M['m00'])\n",
    "                cy = int(M['m01']/M['m00'])\n",
    "            detected_colors[cx,cy] = ['Orange']\n",
    "\n",
    "    return detected_colors"
   ]
  },
  {
   "cell_type": "code",
   "execution_count": 8,
   "id": "8bb3ec36",
   "metadata": {
    "scrolled": true
   },
   "outputs": [
    {
     "name": "stdout",
     "output_type": "stream",
     "text": [
      "{(589, 370): ['Red'], (326, 146): ['Green']}\n"
     ]
    }
   ],
   "source": [
    "print(colors_detected('test_images/test_image_1.png'))"
   ]
  },
  {
   "cell_type": "code",
   "execution_count": 9,
   "id": "ced71d2a",
   "metadata": {
    "scrolled": true
   },
   "outputs": [
    {
     "name": "stdout",
     "output_type": "stream",
     "text": [
      "{(302, 119): ['Red'], (766, 165): ['Green'], (275, 349): ['Blue'], (649, 420): ['Blue']}\n"
     ]
    }
   ],
   "source": [
    "print(colors_detected('test_images/test_image_2.png'))"
   ]
  },
  {
   "cell_type": "code",
   "execution_count": 10,
   "id": "cd7f3121",
   "metadata": {},
   "outputs": [
    {
     "name": "stdout",
     "output_type": "stream",
     "text": [
      "{(644, 194): ['Red'], (468, 467): ['Green'], (290, 110): ['Green'], (426, 273): ['Blue']}\n"
     ]
    }
   ],
   "source": [
    "print(colors_detected('test_images/test_image_3.png'))"
   ]
  },
  {
   "cell_type": "code",
   "execution_count": 11,
   "id": "af2541ec",
   "metadata": {},
   "outputs": [
    {
     "name": "stdout",
     "output_type": "stream",
     "text": [
      "{(249, 199): ['Red'], (326, 452): ['Blue'], (589, 227): ['Blue']}\n"
     ]
    }
   ],
   "source": [
    "print(colors_detected('test_images/test_image_4.png'))"
   ]
  },
  {
   "cell_type": "code",
   "execution_count": 12,
   "id": "6ede0e43",
   "metadata": {},
   "outputs": [
    {
     "name": "stdout",
     "output_type": "stream",
     "text": [
      "{(648, 398): ['Red'], (308, 370): ['Green'], (631, 150): ['Blue'], (184, 106): ['Blue']}\n"
     ]
    }
   ],
   "source": [
    "print(colors_detected('test_images/test_image_5.png'))"
   ]
  },
  {
   "cell_type": "code",
   "execution_count": 13,
   "id": "94a570ba",
   "metadata": {},
   "outputs": [
    {
     "name": "stdout",
     "output_type": "stream",
     "text": [
      "{(302, 119): ['Red'], (766, 165): ['Green'], (275, 349): ['Blue'], (649, 420): ['Blue']}\n"
     ]
    }
   ],
   "source": [
    "print(colors_detected('test_images/test_image_6.png'))"
   ]
  },
  {
   "cell_type": "code",
   "execution_count": 14,
   "id": "9d9b3771",
   "metadata": {},
   "outputs": [
    {
     "name": "stdout",
     "output_type": "stream",
     "text": [
      "{(648, 199): ['Red'], (308, 227): ['Red'], (104, 108): ['Green'], (184, 492): ['Blue'], (546, 457): ['Blue']}\n"
     ]
    }
   ],
   "source": [
    "print(colors_detected('test_images/test_image_7.png'))"
   ]
  },
  {
   "cell_type": "code",
   "execution_count": 15,
   "id": "baa2340b",
   "metadata": {},
   "outputs": [
    {
     "name": "stdout",
     "output_type": "stream",
     "text": [
      "{(517, 352): ['Red'], (160, 235): ['Red'], (660, 117): ['Green'], (295, 503): ['Blue'], (102, 87): ['Blue']}\n"
     ]
    }
   ],
   "source": [
    "print(colors_detected('test_images/test_image_8.png'))"
   ]
  },
  {
   "cell_type": "code",
   "execution_count": 16,
   "id": "ea4b30bf",
   "metadata": {},
   "outputs": [
    {
     "name": "stdout",
     "output_type": "stream",
     "text": [
      "{(198, 247): ['Green'], (660, 117): ['Green'], (295, 503): ['Blue'], (517, 352): ['Blue'], (102, 87): ['Blue']}\n"
     ]
    }
   ],
   "source": [
    "print(colors_detected('test_images/test_image_9.png'))"
   ]
  },
  {
   "cell_type": "code",
   "execution_count": 17,
   "id": "f426af40",
   "metadata": {},
   "outputs": [
    {
     "name": "stdout",
     "output_type": "stream",
     "text": [
      "{(789, 477): ['Red'], (421, 454): ['Red'], (108, 341): ['Red'], (185, 212): ['Blue'], (92, 89): ['Blue']}\n"
     ]
    }
   ],
   "source": [
    "print(colors_detected('test_images/test_image_10.png'))"
   ]
  },
  {
   "cell_type": "code",
   "execution_count": 18,
   "id": "9e01292e",
   "metadata": {},
   "outputs": [
    {
     "name": "stdout",
     "output_type": "stream",
     "text": [
      "{(290, 110): ['Red'], (644, 194): ['Red'], (468, 467): ['Blue'], (426, 273): ['Blue']}\n"
     ]
    }
   ],
   "source": [
    "print(colors_detected('test_images/test_image_11.png'))"
   ]
  },
  {
   "cell_type": "code",
   "execution_count": 19,
   "id": "a48aa2fb",
   "metadata": {},
   "outputs": [
    {
     "name": "stdout",
     "output_type": "stream",
     "text": [
      "{(789, 477): ['Red'], (421, 454): ['Red'], (108, 341): ['Red'], (185, 212): ['Blue'], (92, 89): ['Blue']}\n"
     ]
    }
   ],
   "source": [
    "print(colors_detected('test_images/test_image_12.png'))"
   ]
  },
  {
   "cell_type": "code",
   "execution_count": 20,
   "id": "a15e8c03",
   "metadata": {},
   "outputs": [
    {
     "name": "stdout",
     "output_type": "stream",
     "text": [
      "{(530, 326): ['Red'], (122, 220): ['Red'], (778, 482): ['Green'], (651, 402): ['Blue'], (647, 199): ['Blue'], (453, 504): ['Orange']}\n"
     ]
    }
   ],
   "source": [
    "print(colors_detected('test_images/test_image_13.png'))"
   ]
  },
  {
   "cell_type": "code",
   "execution_count": 21,
   "id": "03597f34",
   "metadata": {},
   "outputs": [
    {
     "name": "stdout",
     "output_type": "stream",
     "text": [
      "{(215, 247): ['Red'], (162, 184): ['Red'], (101, 102): ['Red'], (254, 340): ['Blue'], (308, 248): ['Orange'], (450, 103): ['Orange']}\n"
     ]
    }
   ],
   "source": [
    "print(colors_detected('test_images/test_image_14.png'))"
   ]
  },
  {
   "cell_type": "code",
   "execution_count": 64,
   "id": "69e23d28",
   "metadata": {},
   "outputs": [
    {
     "name": "stdout",
     "output_type": "stream",
     "text": [
      "[[0, 'Red'], [1, 'Red'], [2, 'Red'], [0, 'Blue'], [1, 'Blue'], [2, 'Blue'], [3, 'Blue'], [0, 'Orange'], [1, 'Orange']]\n"
     ]
    }
   ],
   "source": [
    "print(colors_detected('test_images/test_image_15.png'))"
   ]
  }
 ],
 "metadata": {
  "kernelspec": {
   "display_name": "BM_1424",
   "language": "python",
   "name": "bm_1424"
  },
  "language_info": {
   "codemirror_mode": {
    "name": "ipython",
    "version": 3
   },
   "file_extension": ".py",
   "mimetype": "text/x-python",
   "name": "python",
   "nbconvert_exporter": "python",
   "pygments_lexer": "ipython3",
   "version": "3.9.7"
  }
 },
 "nbformat": 4,
 "nbformat_minor": 5
}
