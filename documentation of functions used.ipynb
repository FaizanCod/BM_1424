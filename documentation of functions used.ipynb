{
 "cells": [
  {
   "cell_type": "markdown",
   "id": "b0358ef8",
   "metadata": {},
   "source": [
    "**simxStart()**\n",
    "\n",
    "\n",
    "Starts a communication thread with the server (i.e. CoppeliaSim). A same client may start several communication threads (but only one communication thread for a given IP and port). This should be the very first remote API function called on the client side. Make sure to start an appropriate remote API server service on the server side, that will wait for a connection. See also simxFinish. This is a remote API helper function.\n",
    "\n",
    "\n",
    "*Parameters:*\n",
    "\n",
    "connectionAddress: the ip address where the server is located (i.e. CoppeliaSim)\n",
    "\n",
    "connectionPort: the port number where to connect. Specify a negative port number in order to use shared memory, instead of socket communication.\n",
    "waitUntilConnected: if True, then the function blocks until connected (or timed out).\n",
    "\n",
    "doNotReconnectOnceDisconnected: if True, then the communication thread will not attempt a second connection if a connection was lost.\n",
    "\n",
    "timeOutInMs:\n",
    "if positive: the connection time-out in milliseconds for the first connection attempt. In that case, the time-out for blocking function calls is 5000 milliseconds.\n",
    "if negative: its positive value is the time-out for blocking function calls. In that case, the connection time-out for the first connection attempt is 5000 milliseconds.\n",
    "\n",
    "commThreadCycleInMs: indicates how often data packets are sent back and forth. Reducing this number improves responsiveness, and a default value of 5 is recommended.\n",
    "\n",
    "\n",
    "*Returns:*\n",
    "\n",
    "clientID: the client ID, or -1 if the connection to the server was not possible (i.e. a timeout was reached). A call to simxStart should always be followed at the end with a call to simxFinish if simxStart didn't return -1"
   ]
  },
  {
   "cell_type": "markdown",
   "id": "642addb3",
   "metadata": {},
   "source": [
    "**simxFinish()**\n",
    "\n",
    "Ends the communication thread. This should be the very last remote API function called on the client side. simxFinish should only be called after a successfull call to simxStart. This is a remote API helper function.\n",
    "\n",
    "\n",
    "*Parameters:*\n",
    "\n",
    "clientID: the client ID. refer to simxStart. Can be -1 to end all running communication threads.\n",
    "\n",
    "\n",
    "*Returns:*\n",
    "\n",
    "Nothing"
   ]
  },
  {
   "cell_type": "markdown",
   "id": "f691a412",
   "metadata": {},
   "source": [
    "**simxStartSimulation()**\n",
    "\n",
    "Requests a start of a simulation (or a resume of a paused simulation). This function is only executed by continuous remote API server services.\n",
    "\n",
    "\n",
    "*Parameters:*\n",
    "\t\n",
    "clientID: the client ID. refer to simxStart.\n",
    "operationMode: a remote API function operation mode. Recommended operation mode for this function is simx_opmode_oneshot.\n",
    "\n",
    "\n",
    "*Returns:*\n",
    "\n",
    "returnCode: a remote API function return code"
   ]
  },
  {
   "cell_type": "markdown",
   "id": "2ee00a41",
   "metadata": {},
   "source": [
    "**simxGetPingTime()**\n",
    "\n",
    "Retrieves the time needed for a command to be sent to the server, executed, and sent back. That time depends on various factors like the client settings, the network load, whether a simulation is running, whether the simulation is real-time, the simulation time step, etc. The function is blocking. This is a remote API helper function.\n",
    "\n",
    "\n",
    "*Parameters:*\n",
    "\n",
    "clientID: the client ID. refer to simxStart.\n",
    "\n",
    "\n",
    "*Returns:*\n",
    "\n",
    "returnCode: a remote API function return code\n",
    "\n",
    "pingTime: the ping time in milliseconds."
   ]
  },
  {
   "cell_type": "markdown",
   "id": "c13f1f39",
   "metadata": {},
   "source": [
    "**simxStopSimulation()**\n",
    "\n",
    "Requests a stop of the running simulation.\n",
    "\n",
    "\n",
    "*Parameters:*\n",
    "\t\n",
    "clientID: the client ID. refer to simxStart.\n",
    "\n",
    "operationMode: a remote API function operation mode. Recommended operation modes for this function is simx_opmode_oneshot.\n",
    "\n",
    "\n",
    "*Returns:*\n",
    "\n",
    "returnCode: a remote API function return code"
   ]
  },
  {
   "cell_type": "markdown",
   "id": "c4eda610",
   "metadata": {},
   "source": [
    "**simxGetLastCmdTime()**\n",
    "\n",
    "\t\n",
    "Retrieves the simulation time of the last fetched command (i.e. when the last fetched command was processed on the server side). The function can be used to verify how \"fresh\" a command reply is, or whether a command reply was recently updated.\n",
    "\n",
    "If some streaming commands are running, simxGetLastCmdTime will always retrieve the current simulation time, otherwise, only the simulation time of the last command that retrieved data from CoppeliaSim. This is a remote API helper function.\n",
    "\n",
    "\n",
    "*Parameters:*\n",
    "\n",
    "clientID: the client ID. refer to simxStart.\n",
    "\n",
    "\n",
    "*Returns:*\n",
    "\n",
    "cmdTime: the simulation time in milliseconds when the command reply was generated, or 0 if simulation was not running."
   ]
  },
  {
   "cell_type": "markdown",
   "id": "68925ae1",
   "metadata": {},
   "source": [
    "**simxGetObjectHandle()**\n",
    "\n",
    "\n",
    "Retrieves an object handle based on its name.\n",
    "\n",
    "\n",
    "*Parameters:*\n",
    "\t \n",
    "clientID: the client ID. refer to simxStart.\n",
    "\n",
    "objectName: name of the object.\n",
    "\n",
    "operationMode: a remote API function operation mode. Recommended operation mode for this function is simx_opmode_blocking.\n",
    "\n",
    "*Returns:*\n",
    "\n",
    "returnCode: a remote API function return code\n",
    "\n",
    "handle: the handle"
   ]
  },
  {
   "cell_type": "markdown",
   "id": "59441468",
   "metadata": {},
   "source": [
    "**simxGetVisionSensorImage()**\n",
    "\n",
    "Retrieves the image of a vision sensor. The returned data doesn't make sense if sim.handleVisionSensor wasn't called previously (sim.handleVisionSensor is called by default in the main script if the vision sensor is not tagged as explicit handling). Use the simxGetLastCmdTime function to verify the \"freshness\" of the retrieved data. \n",
    "\n",
    "*Parameters:*\n",
    "\n",
    "clientID: the client ID. refer to simxStart.\n",
    "\n",
    "sensorHandle: handle of the vision sensor\n",
    "\n",
    "options: image options, bit-coded:\n",
    "bit0 set: each image pixel is a byte (greyscale image), otherwise each image pixel is a rgb byte-triplet\n",
    "\n",
    "operationMode: a remote API function operation mode. Recommended operation\n",
    "modes for this function are simx_opmode_streaming (the first call) and simx_opmode_buffer (the following calls)\n",
    "\n",
    "*Returns:*\n",
    "\n",
    "returnCode: a remote API function return code\n",
    "\n",
    "resolution: the resolution of the image (x,y)\n",
    "\n",
    "image: the image data."
   ]
  },
  {
   "cell_type": "markdown",
   "id": "021331ed",
   "metadata": {},
   "source": [
    "#converting vision_sensor_image to numpy array\n",
    "sensorImage = np.array(vision_sensor_image, dtype = np.uint8)\n",
    "\n",
    "#resizing 1d array to 3d array\n",
    "sensorImage.resize([image_resolution[0], image_resolution[1], 3])\n",
    "\n",
    "#changing color from BGR to RGB\n",
    "sensorImageRGB = cv2.cvtColor(sensorImage, cv2.COLOR_BGR2RGB)\n",
    "\n",
    "#flipping about x-axis\n",
    "transformed_image = cv2.flip(sensorImageRGB, 1)"
   ]
  },
  {
   "cell_type": "markdown",
   "id": "889d1e28",
   "metadata": {},
   "source": [
    "detectAndDecode() to search for a QR code and it returns a bounding box with the QR code region. From this box compute its centroid"
   ]
  }
 ],
 "metadata": {
  "kernelspec": {
   "display_name": "BM_1424",
   "language": "python",
   "name": "bm_1424"
  },
  "language_info": {
   "codemirror_mode": {
    "name": "ipython",
    "version": 3
   },
   "file_extension": ".py",
   "mimetype": "text/x-python",
   "name": "python",
   "nbconvert_exporter": "python",
   "pygments_lexer": "ipython3",
   "version": "3.9.7"
  }
 },
 "nbformat": 4,
 "nbformat_minor": 5
}
