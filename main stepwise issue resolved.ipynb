{
 "cells": [
  {
   "cell_type": "markdown",
   "metadata": {},
   "source": [
    "Following Issues resolved:\n",
    "\n",
    "1) test_image_14 : two squares treated as one, due to which undefined centroid key value in color dict, also the only **orange square** being detected is giving an answer- **Red** *(refer issue and issue1 images)*\n",
    "\n",
    "2) test_image_15 : **one orange triangle** detected as **blue** triangle *(refer issue2 image)*"
   ]
  },
  {
   "cell_type": "code",
   "execution_count": 23,
   "metadata": {},
   "outputs": [],
   "source": [
    "import cv2\n",
    "import numpy as np\n",
    "import os\n",
    "##############################################################\n",
    "\n",
    "################# ADD UTILITY FUNCTIONS HERE #################\n",
    "\n",
    "def centroid_cnt(contour):\n",
    "    \"\"\"\n",
    "    Purpose:\n",
    "    ---\n",
    "    This function takes contour as an argument and returns a list containing\n",
    "    the x and y values of the centroid\n",
    "\n",
    "    Input Arguments:\n",
    "    ---\n",
    "    `contour` : [ numpy array ]\n",
    "            numpy array of (x, y) coordinates of boundary points of the object.\n",
    "\n",
    "    Returns:\n",
    "    ---\n",
    "    `centroid` : [ list ]\n",
    "            list of (x,y) coordinates of the centroid of the contours\n",
    "    \"\"\"\n",
    "    \n",
    "    centroid = []\n",
    "\n",
    "    M = cv2.moments(contour)\n",
    "    if M['m00'] != 0.0:\n",
    "        cx = int(M['m10']/M['m00'])\n",
    "        cy = int(M['m01']/M['m00'])\n",
    "\n",
    "        centroid.append((cx,cy))\n",
    "\n",
    "    return centroid\n",
    "\n",
    "def centroid_img(img):\n",
    "    \"\"\"\n",
    "    Purpose:\n",
    "    ---\n",
    "    This function takes image as an argument and returns a list containing\n",
    "    the x and y values of the centroid\n",
    "\n",
    "    Input Arguments:\n",
    "    ---\n",
    "    `contour` : [ numpy array ]\n",
    "            numpy array of (x, y) coordinates of boundary points of the object.\n",
    "\n",
    "    Returns:\n",
    "    ---\n",
    "    `centroid` : [ list ]\n",
    "            list of (x,y) coordinates of the centroid of the contours\n",
    "    \"\"\"\n",
    "    centroid = []\n",
    "\n",
    "    # converting image to grayscale\n",
    "    image = cv2.cvtColor(img, cv2.COLOR_BGR2GRAY)\n",
    "\n",
    "    # Thresholding\n",
    "    _, threshold = cv2.threshold(image, 200, 255, cv2.THRESH_BINARY)\n",
    "\n",
    "    # Contouring\n",
    "    contours,_ = cv2.findContours(threshold, cv2.RETR_TREE, cv2.CHAIN_APPROX_SIMPLE)\n",
    "\n",
    "    # to loop over the contours\n",
    "    i=0\n",
    "    for cnt in contours:\n",
    "    \n",
    "        # here we are ignoring first counter because \n",
    "        # findContours function detects whole image as shape\n",
    "        if i==0:\n",
    "            i=1\n",
    "            continue\n",
    "\n",
    "        M = cv2.moments(cnt)\n",
    "        if M['m00'] != 0.0:\n",
    "            cx = int(M['m10']/M['m00'])\n",
    "            cy = int(M['m01']/M['m00'])\n",
    "\n",
    "        centroid.append((cx,cy))\n",
    "\n",
    "    return centroid\n",
    "\n",
    "\n",
    "def colors_detected(img):\n",
    "    \"\"\"\n",
    "    Purpose:\n",
    "    ---\n",
    "    This function takes the image as argument and returns a dictionary\n",
    "    denoting the color of the shapes in the image.\n",
    "\n",
    "    Input Arguments:\n",
    "    ---\n",
    "    `img` : [ numpy array ]\n",
    "            numpy array of image returned by cv2 library\n",
    "\n",
    "    Returns:\n",
    "    ---\n",
    "    `detected_colors` : {dictionary}\n",
    "            dictionary containing details of colors present in image\n",
    "    \"\"\"\n",
    "    detected_colors = {}\n",
    "\n",
    "    centroids = centroid_img(img)\n",
    "\n",
    "    for cent in centroids:\n",
    "        \n",
    "        # centroid    \n",
    "        cx = cent[0]\n",
    "        cy = cent[1]\n",
    "\n",
    "        # finding out blue, green and red values for the pixel\n",
    "    \n",
    "        # image[y, x] is the correct syntax based on the fact that \n",
    "        # the x-value is the column number (i.e., width), and \n",
    "        # the y-value is the row number (i.e., height).\n",
    "        (b, g, r) = img[cy][cx]\n",
    "        \n",
    "        if (b==0 and g==0 and r==255):\n",
    "            detected_colors[cx,cy] = ['Red']\n",
    "        elif (b==0 and g==255 and r==0):\n",
    "            detected_colors[cx,cy] = ['Green']\n",
    "        elif (b==255 and g==0 and r==0):\n",
    "            detected_colors[cx,cy] = ['Blue']\n",
    "        else:\n",
    "            detected_colors[cx,cy] = ['Orange']\n",
    "\n",
    "    return detected_colors\n",
    "\n",
    "\n",
    "def shapes(img):\n",
    "    \n",
    "    img_shapes = {}\n",
    "    # converting image to grayscale\n",
    "    image = cv2.cvtColor(img, cv2.COLOR_BGR2GRAY)\n",
    "\n",
    "    # Thresholding\n",
    "    _, threshold = cv2.threshold(image, 200, 255, cv2.THRESH_BINARY)\n",
    "\n",
    "    # Contouring\n",
    "    contours,_ = cv2.findContours(threshold, cv2.RETR_TREE, cv2.CHAIN_APPROX_SIMPLE)\n",
    "\n",
    "    #to loop over the contours\n",
    "    i=0\n",
    "    for cnt in contours:\n",
    "    \n",
    "        # ignoring first counter because \n",
    "        # findcontour function detects whole image as one shape\n",
    "        if i==0:\n",
    "            i=1\n",
    "            continue\n",
    "\n",
    "        # approximating\n",
    "        approx = cv2.approxPolyDP(cnt, 0.025*cv2.arcLength(cnt, True), True)\n",
    "        \n",
    "\n",
    "        centroids = centroid_cnt(cnt)\n",
    "\n",
    "        # centroid    \n",
    "        cx = centroids[0][0]\n",
    "        cy = centroids[0][1]\n",
    "        \n",
    "        # putting shape name\n",
    "        if len(approx) == 3:\n",
    "            img_shapes[cx,cy] = ['Triangle']\n",
    "  \n",
    "        elif len(approx) == 4:\n",
    "        \n",
    "            # for distinguishing between rectangle and square\n",
    "            x, y, w, h = cv2.boundingRect(approx)\n",
    "\n",
    "            aspectRatio = float (w)/h\n",
    "            if aspectRatio >= 0.95 and aspectRatio <= 1.05:\n",
    "                img_shapes[cx,cy] = ['Square']\n",
    "            else:\n",
    "                img_shapes[cx,cy] = ['Rectangle']\n",
    "\n",
    "        elif (len(approx) == 5):\n",
    "             img_shapes[cx,cy] = ['Pentagon']\n",
    "  \n",
    "        else:\n",
    "             img_shapes[cx,cy] = ['Circle']\n",
    "\n",
    "    return img_shapes\n",
    "\n",
    "\n",
    "##############################################################\n",
    "\n",
    "def detect_shapes(img):\n",
    "\n",
    "\t\"\"\"\n",
    "\tPurpose:\n",
    "\t---\n",
    "\tThis function takes the image as an argument and returns a nested list\n",
    "\tcontaining details of colored (non-white) shapes in that image\n",
    "\n",
    "\tInput Arguments:\n",
    "\t---\n",
    "\t`img` :\t[ numpy array ]\n",
    "\t\t\tnumpy array of image returned by cv2 library\n",
    "\n",
    "\tReturns:\n",
    "\t---\n",
    "\t`detected_shapes` : [ list ]\n",
    "\t\t\tnested list containing details of colored (non-white) \n",
    "\t\t\tshapes present in image\n",
    "\t\n",
    "\tExample call:\n",
    "\t---\n",
    "\tshapes = detect_shapes(img)\n",
    "\t\"\"\"    \n",
    "\tdetected_shapes = []\n",
    "\n",
    "\t##############\tADD YOUR CODE HERE\t##############\n",
    "    \n",
    "\tcolor = colors_detected(img)\n",
    "\n",
    "\tshape = shapes(img)\n",
    "\n",
    "# \tprint(color)\n",
    "    \n",
    "# \tprint(shape)\n",
    "    \n",
    "\tkeys_color = list(color.keys())\n",
    "    \n",
    "\tkeys_shape = list(shape.keys())\n",
    "    \n",
    "# \tprint(keys_color)\n",
    "    \n",
    "# \tprint(keys_shape)\n",
    "    \n",
    "\tdetails_list = []\n",
    "\n",
    "\tfor key_shp in keys_shape:\n",
    "# \t\tprint(key_shp[0])\n",
    "# \t\tprint(key_shp[1])\n",
    "\t\tdetails_list = []\n",
    "\t\tcx_key = key_shp[0]\n",
    "\t\tcy_key = key_shp[1]\n",
    "        \n",
    "#         # error inclusion\n",
    "# \t\tupper_cx = 1.01 * cx_key  \n",
    "# #         upper_cx = cx_key + 0.01 * cx_key\n",
    "# \t\tlower_cx = 0.99 * cx_key\n",
    "    \n",
    "# \t\tupper_cy = 1.01 * cy_key  \n",
    "# \t\tlower_cy = 0.99 * cy_key\n",
    "\n",
    "\t\tfor key_clr in keys_color:\n",
    "\t\t\tcx_k = key_clr[0]\n",
    "\t\t\tcy_k = key_clr[1]\n",
    "            \n",
    "\n",
    "# \t\t\tif (lower_cx <= cx_k <= upper_cx or lower_cy <= cy_k <= upper_cy):\n",
    "\t\t\tif (cx_k == cx_key and cy_k == cy_key):\n",
    "\t\t\t\ttemp1 = (cx_k, cy_k)\n",
    "\t\t\t\ttemp2 = (cx_key, cy_key)\n",
    "# \t\t\t\tprint(temp1)\n",
    "# \t\t\t\tprint(temp2)\n",
    "\t\t\t\tdetails_list.append(color.get(temp1)[0])\n",
    "\t\t\t\tdetails_list.append(shape.get(temp2)[0])\n",
    "\t\t\t\tdetails_list.append(temp2)\n",
    "\t\t\t\tdetected_shapes.append(details_list)\n",
    "\t\t\t\tif len(details_list) == 3 :\n",
    "\t\t\t\t\tbreak\n",
    "# \t\t\t\tprint(detected_shapes)\n",
    "    \n",
    "\tfor detected in detected_shapes:\n",
    "\t\tcolour = detected[0]\n",
    "\t\tshape = detected[1]\n",
    "\t\tcoordinates = detected[2]\n",
    "\t\tcv2.putText(img, str((colour, shape)),coordinates, cv2.FONT_HERSHEY_SIMPLEX, 0.5, (0,0,0), 2)\n",
    "\t\tcv2.imshow(\"labeled_image\", img)\n",
    "\t\tcv2.waitKey(0)\n",
    "\t\tcv2.destroyAllWindows()\n",
    "\t##################################################\n",
    "\n",
    "    \n",
    "    \n",
    "\treturn detected_shapes"
   ]
  },
  {
   "cell_type": "code",
   "execution_count": 24,
   "metadata": {},
   "outputs": [],
   "source": [
    "def get_labeled_image(img, detected_shapes):\n",
    "\t######### YOU ARE NOT ALLOWED TO MAKE CHANGES TO THIS FUNCTION #########\n",
    "\t\"\"\"\n",
    "\tPurpose:\n",
    "\t---\n",
    "\tThis function takes the image and the detected shapes list as an argument\n",
    "\tand returns a labelled image\n",
    "\n",
    "\tInput Arguments:\n",
    "\t---\n",
    "\t`img` :\t[ numpy array ]\n",
    "\t\t\tnumpy array of image returned by cv2 library\n",
    "\n",
    "\t`detected_shapes` : [ list ]\n",
    "\t\t\tnested list containing details of colored (non-white) \n",
    "\t\t\tshapes present in image\n",
    "\n",
    "\tReturns:\n",
    "\t---\n",
    "\t`img` :\t[ numpy array ]\n",
    "\t\t\tlabelled image\n",
    "\t\n",
    "\tExample call:\n",
    "\t---\n",
    "\timg = get_labeled_image(img, detected_shapes)\n",
    "\t\"\"\"\n",
    "\t######### YOU ARE NOT ALLOWED TO MAKE CHANGES TO THIS FUNCTION #########    \n",
    "\n",
    "\tfor detected in detected_shapes:\n",
    "\t\tcolour = detected[0]\n",
    "\t\tshape = detected[1]\n",
    "\t\tcoordinates = detected[2]\n",
    "\t\tcv2.putText(img, str((colour, shape)),coordinates, cv2.FONT_HERSHEY_SIMPLEX, 0.5, (0,0,0), 2)\n",
    "\treturn img"
   ]
  },
  {
   "cell_type": "code",
   "execution_count": 25,
   "metadata": {},
   "outputs": [
    {
     "name": "stdout",
     "output_type": "stream",
     "text": [
      "[['Red', 'Circle', (588, 370)], ['Green', 'Square', (325, 145)]]\n"
     ]
    }
   ],
   "source": [
    "img = cv2.imread('test_images/test_image_1.png')\n",
    "print(detect_shapes(img))"
   ]
  },
  {
   "cell_type": "code",
   "execution_count": 26,
   "metadata": {},
   "outputs": [
    {
     "name": "stdout",
     "output_type": "stream",
     "text": [
      "[['Blue', 'Circle', (274, 348)], ['Blue', 'Pentagon', (648, 420)], ['Green', 'Triangle', (766, 165)], ['Red', 'Rectangle', (301, 118)]]\n"
     ]
    }
   ],
   "source": [
    "img = cv2.imread('test_images/test_image_2.png')\n",
    "print(detect_shapes(img))"
   ]
  },
  {
   "cell_type": "code",
   "execution_count": 27,
   "metadata": {},
   "outputs": [
    {
     "name": "stdout",
     "output_type": "stream",
     "text": [
      "[['Green', 'Rectangle', (467, 467)], ['Blue', 'Square', (425, 272)], ['Green', 'Circle', (290, 110)], ['Red', 'Triangle', (643, 194)]]\n"
     ]
    }
   ],
   "source": [
    "img = cv2.imread('test_images/test_image_3.png')\n",
    "print(detect_shapes(img))"
   ]
  },
  {
   "cell_type": "code",
   "execution_count": 28,
   "metadata": {},
   "outputs": [
    {
     "name": "stdout",
     "output_type": "stream",
     "text": [
      "[['Blue', 'Square', (325, 451)], ['Red', 'Rectangle', (249, 199)], ['Blue', 'Circle', (588, 226)]]\n"
     ]
    }
   ],
   "source": [
    "img = cv2.imread('test_images/test_image_4.png')\n",
    "print(detect_shapes(img))"
   ]
  },
  {
   "cell_type": "code",
   "execution_count": 29,
   "metadata": {},
   "outputs": [
    {
     "name": "stdout",
     "output_type": "stream",
     "text": [
      "[['Red', 'Rectangle', (648, 398)], ['Green', 'Circle', (308, 370)], ['Blue', 'Circle', (631, 149)], ['Blue', 'Square', (183, 105)]]\n"
     ]
    }
   ],
   "source": [
    "img = cv2.imread('test_images/test_image_5.png')\n",
    "print(detect_shapes(img))"
   ]
  },
  {
   "cell_type": "code",
   "execution_count": 30,
   "metadata": {},
   "outputs": [
    {
     "name": "stdout",
     "output_type": "stream",
     "text": [
      "[['Blue', 'Circle', (274, 348)], ['Blue', 'Pentagon', (648, 420)], ['Green', 'Triangle', (766, 165)], ['Red', 'Rectangle', (301, 118)]]\n"
     ]
    }
   ],
   "source": [
    "img = cv2.imread('test_images/test_image_6.png')\n",
    "print(detect_shapes(img))"
   ]
  },
  {
   "cell_type": "code",
   "execution_count": 31,
   "metadata": {},
   "outputs": [
    {
     "name": "stdout",
     "output_type": "stream",
     "text": [
      "[['Blue', 'Square', (183, 491)], ['Blue', 'Pentagon', (545, 457)], ['Red', 'Rectangle', (648, 199)], ['Red', 'Circle', (308, 226)], ['Green', 'Pentagon', (103, 108)]]\n"
     ]
    }
   ],
   "source": [
    "img = cv2.imread('test_images/test_image_7.png')\n",
    "print(detect_shapes(img))"
   ]
  },
  {
   "cell_type": "code",
   "execution_count": 32,
   "metadata": {},
   "outputs": [
    {
     "name": "stdout",
     "output_type": "stream",
     "text": [
      "[['Blue', 'Circle', (295, 503)], ['Red', 'Pentagon', (517, 352)], ['Red', 'Pentagon', (160, 234)], ['Green', 'Triangle', (660, 117)], ['Blue', 'Square', (101, 86)]]\n"
     ]
    }
   ],
   "source": [
    "img = cv2.imread('test_images/test_image_8.png')\n",
    "print(detect_shapes(img))"
   ]
  },
  {
   "cell_type": "code",
   "execution_count": 33,
   "metadata": {},
   "outputs": [
    {
     "name": "stdout",
     "output_type": "stream",
     "text": [
      "[['Blue', 'Circle', (295, 503)], ['Blue', 'Pentagon', (517, 352)], ['Green', 'Rectangle', (197, 246)], ['Green', 'Triangle', (660, 117)], ['Blue', 'Square', (101, 86)]]\n"
     ]
    }
   ],
   "source": [
    "img = cv2.imread('test_images/test_image_9.png')\n",
    "print(detect_shapes(img))"
   ]
  },
  {
   "cell_type": "code",
   "execution_count": 34,
   "metadata": {},
   "outputs": [
    {
     "name": "stdout",
     "output_type": "stream",
     "text": [
      "[['Red', 'Circle', (788, 476)], ['Red', 'Rectangle', (420, 453)], ['Red', 'Circle', (107, 340)], ['Blue', 'Triangle', (184, 212)], ['Blue', 'Triangle', (91, 89)]]\n"
     ]
    }
   ],
   "source": [
    "img = cv2.imread('test_images/test_image_10.png')\n",
    "print(detect_shapes(img))"
   ]
  },
  {
   "cell_type": "code",
   "execution_count": 35,
   "metadata": {},
   "outputs": [
    {
     "name": "stdout",
     "output_type": "stream",
     "text": [
      "[['Blue', 'Rectangle', (467, 467)], ['Blue', 'Square', (425, 272)], ['Red', 'Circle', (290, 110)], ['Red', 'Triangle', (643, 194)]]\n"
     ]
    }
   ],
   "source": [
    "img = cv2.imread('test_images/test_image_11.png')\n",
    "print(detect_shapes(img))"
   ]
  },
  {
   "cell_type": "code",
   "execution_count": 36,
   "metadata": {},
   "outputs": [
    {
     "name": "stdout",
     "output_type": "stream",
     "text": [
      "[['Red', 'Circle', (788, 476)], ['Red', 'Rectangle', (420, 453)], ['Red', 'Circle', (107, 340)], ['Blue', 'Triangle', (184, 212)], ['Blue', 'Triangle', (91, 89)]]\n"
     ]
    }
   ],
   "source": [
    "img = cv2.imread('test_images/test_image_12.png')\n",
    "print(detect_shapes(img))"
   ]
  },
  {
   "cell_type": "code",
   "execution_count": 40,
   "metadata": {},
   "outputs": [
    {
     "name": "stdout",
     "output_type": "stream",
     "text": [
      "[['Orange', 'Triangle', (452, 504)], ['Green', 'Square', (778, 482)], ['Blue', 'Rectangle', (650, 401)], ['Red', 'Circle', (529, 325)], ['Red', 'Rectangle', (121, 220)], ['Blue', 'Triangle', (646, 199)]]\n"
     ]
    }
   ],
   "source": [
    "img = cv2.imread('test_images/test_image_13.png')\n",
    "print(detect_shapes(img))"
   ]
  },
  {
   "cell_type": "code",
   "execution_count": 41,
   "metadata": {},
   "outputs": [
    {
     "name": "stdout",
     "output_type": "stream",
     "text": [
      "[['Blue', 'Triangle', (254, 340)], ['Orange', 'Square', (308, 248)], ['Red', 'Circle', (215, 247)], ['Orange', 'Square', (372, 182)], ['Red', 'Circle', (161, 183)], ['Red', 'Circle', (101, 101)], ['Orange', 'Square', (455, 98)]]\n"
     ]
    }
   ],
   "source": [
    "img = cv2.imread('test_images/test_image_14.png')\n",
    "print(detect_shapes(img))"
   ]
  },
  {
   "cell_type": "code",
   "execution_count": 42,
   "metadata": {},
   "outputs": [
    {
     "name": "stdout",
     "output_type": "stream",
     "text": [
      "[['Blue', 'Circle', (82, 509)], ['Orange', 'Triangle', (601, 506)], ['Blue', 'Circle', (317, 320)], ['Orange', 'Triangle', (602, 234)], ['Red', 'Square', (201, 218)], ['Blue', 'Circle', (292, 161)], ['Red', 'Square', (395, 165)], ['Red', 'Square', (203, 98)], ['Blue', 'Circle', (793, 96)]]\n"
     ]
    }
   ],
   "source": [
    "img = cv2.imread('test_images/test_image_15.png')\n",
    "print(detect_shapes(img))"
   ]
  },
  {
   "cell_type": "code",
   "execution_count": null,
   "metadata": {},
   "outputs": [],
   "source": []
  }
 ],
 "metadata": {
  "kernelspec": {
   "display_name": "BM_1424",
   "language": "python",
   "name": "bm_1424"
  },
  "language_info": {
   "codemirror_mode": {
    "name": "ipython",
    "version": 3
   },
   "file_extension": ".py",
   "mimetype": "text/x-python",
   "name": "python",
   "nbconvert_exporter": "python",
   "pygments_lexer": "ipython3",
   "version": "3.9.7"
  }
 },
 "nbformat": 4,
 "nbformat_minor": 2
}
