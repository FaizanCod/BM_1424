{
 "cells": [
  {
   "cell_type": "code",
   "execution_count": 1,
   "id": "6a844716",
   "metadata": {},
   "outputs": [],
   "source": [
    "import cv2\n",
    "import numpy as np"
   ]
  },
  {
   "cell_type": "code",
   "execution_count": 2,
   "id": "03c3d438",
   "metadata": {},
   "outputs": [],
   "source": [
    "def centroid(img):\n",
    "\n",
    "    centroid = []\n",
    "\n",
    "    # reading image and converting it to grayscale\n",
    "    image = cv2.imread(img, cv2.IMREAD_GRAYSCALE)\n",
    "\n",
    "    # Thresholding\n",
    "    _, threshold = cv2.threshold(image, 200, 255, cv2.THRESH_BINARY)\n",
    "\n",
    "    # Contouring\n",
    "    contours,_ = cv2.findContours(threshold, cv2.RETR_TREE, cv2.CHAIN_APPROX_SIMPLE)\n",
    "\n",
    "    # to loop over the contours\n",
    "    i=0\n",
    "    for cnt in contours:\n",
    "    \n",
    "        # here we are ignoring first counter because \n",
    "        # findContours function detects whole image as shape\n",
    "        if i==0:\n",
    "            i=1\n",
    "            continue\n",
    "\n",
    "        M = cv2.moments(cnt)\n",
    "        if M['m00'] != 0.0:\n",
    "            cx = int(M['m10']/M['m00'])\n",
    "            cy = int(M['m01']/M['m00'])\n",
    "\n",
    "        centroid.append((cx,cy))\n",
    "\n",
    "    return centroid"
   ]
  },
  {
   "cell_type": "code",
   "execution_count": 3,
   "id": "72defa0e",
   "metadata": {},
   "outputs": [
    {
     "name": "stdout",
     "output_type": "stream",
     "text": [
      "[(588, 370), (325, 145)]\n"
     ]
    }
   ],
   "source": [
    "print(centroid('test_images/test_image_1.png'))"
   ]
  },
  {
   "cell_type": "code",
   "execution_count": 4,
   "id": "c9afd2fd",
   "metadata": {},
   "outputs": [
    {
     "name": "stdout",
     "output_type": "stream",
     "text": [
      "[(274, 348), (648, 420), (766, 165), (301, 118)]\n"
     ]
    }
   ],
   "source": [
    "print(centroid('test_images/test_image_2.png'))"
   ]
  },
  {
   "cell_type": "code",
   "execution_count": 5,
   "id": "32c2c27d",
   "metadata": {},
   "outputs": [
    {
     "name": "stdout",
     "output_type": "stream",
     "text": [
      "[(467, 467), (425, 272), (290, 110), (643, 194)]\n"
     ]
    }
   ],
   "source": [
    "print(centroid('test_images/test_image_3.png'))"
   ]
  },
  {
   "cell_type": "code",
   "execution_count": 6,
   "id": "c2c43404",
   "metadata": {},
   "outputs": [
    {
     "name": "stdout",
     "output_type": "stream",
     "text": [
      "[(325, 451), (249, 199), (588, 226)]\n"
     ]
    }
   ],
   "source": [
    "print(centroid('test_images/test_image_4.png'))"
   ]
  },
  {
   "cell_type": "code",
   "execution_count": 7,
   "id": "145b6e20",
   "metadata": {},
   "outputs": [
    {
     "name": "stdout",
     "output_type": "stream",
     "text": [
      "[(648, 398), (308, 370), (631, 149), (183, 105)]\n"
     ]
    }
   ],
   "source": [
    "print(centroid('test_images/test_image_5.png'))"
   ]
  },
  {
   "cell_type": "code",
   "execution_count": 8,
   "id": "c0f1ab2d",
   "metadata": {},
   "outputs": [
    {
     "name": "stdout",
     "output_type": "stream",
     "text": [
      "[(274, 348), (648, 420), (766, 165), (301, 118)]\n"
     ]
    }
   ],
   "source": [
    "print(centroid('test_images/test_image_6.png'))"
   ]
  },
  {
   "cell_type": "code",
   "execution_count": 9,
   "id": "93940a09",
   "metadata": {},
   "outputs": [
    {
     "name": "stdout",
     "output_type": "stream",
     "text": [
      "[(183, 491), (545, 457), (648, 199), (308, 226), (103, 108)]\n"
     ]
    }
   ],
   "source": [
    "print(centroid('test_images/test_image_7.png'))"
   ]
  },
  {
   "cell_type": "code",
   "execution_count": 10,
   "id": "4a6c7486",
   "metadata": {},
   "outputs": [
    {
     "name": "stdout",
     "output_type": "stream",
     "text": [
      "[(295, 503), (517, 352), (160, 234), (660, 117), (101, 86)]\n"
     ]
    }
   ],
   "source": [
    "print(centroid('test_images/test_image_8.png'))"
   ]
  },
  {
   "cell_type": "code",
   "execution_count": 11,
   "id": "d9b7d25c",
   "metadata": {},
   "outputs": [
    {
     "name": "stdout",
     "output_type": "stream",
     "text": [
      "[(295, 503), (517, 352), (197, 246), (660, 117), (101, 86)]\n"
     ]
    }
   ],
   "source": [
    "print(centroid('test_images/test_image_9.png'))"
   ]
  },
  {
   "cell_type": "code",
   "execution_count": 12,
   "id": "f4cd63ac",
   "metadata": {},
   "outputs": [
    {
     "name": "stdout",
     "output_type": "stream",
     "text": [
      "[(788, 476), (420, 453), (107, 340), (184, 212), (91, 89)]\n"
     ]
    }
   ],
   "source": [
    "print(centroid('test_images/test_image_10.png'))"
   ]
  },
  {
   "cell_type": "code",
   "execution_count": 13,
   "id": "d4d194a4",
   "metadata": {},
   "outputs": [
    {
     "name": "stdout",
     "output_type": "stream",
     "text": [
      "[(467, 467), (425, 272), (290, 110), (643, 194)]\n"
     ]
    }
   ],
   "source": [
    "print(centroid('test_images/test_image_11.png'))"
   ]
  },
  {
   "cell_type": "code",
   "execution_count": 14,
   "id": "3b54918c",
   "metadata": {},
   "outputs": [
    {
     "name": "stdout",
     "output_type": "stream",
     "text": [
      "[(788, 476), (420, 453), (107, 340), (184, 212), (91, 89)]\n"
     ]
    }
   ],
   "source": [
    "print(centroid('test_images/test_image_12.png'))"
   ]
  },
  {
   "cell_type": "code",
   "execution_count": 15,
   "id": "d87664a1",
   "metadata": {},
   "outputs": [
    {
     "name": "stdout",
     "output_type": "stream",
     "text": [
      "[(452, 504), (778, 482), (650, 401), (529, 325), (121, 220), (646, 199)]\n"
     ]
    }
   ],
   "source": [
    "print(centroid('test_images/test_image_13.png'))"
   ]
  },
  {
   "cell_type": "code",
   "execution_count": 16,
   "id": "f519d295",
   "metadata": {},
   "outputs": [
    {
     "name": "stdout",
     "output_type": "stream",
     "text": [
      "[(254, 340), (308, 248), (215, 247), (372, 182), (161, 183), (101, 101), (455, 98)]\n"
     ]
    }
   ],
   "source": [
    "print(centroid('test_images/test_image_14.png'))"
   ]
  },
  {
   "cell_type": "code",
   "execution_count": 17,
   "id": "d5386b89",
   "metadata": {},
   "outputs": [
    {
     "name": "stdout",
     "output_type": "stream",
     "text": [
      "[(82, 509), (601, 506), (317, 320), (602, 234), (201, 218), (292, 161), (395, 165), (203, 98), (793, 96)]\n"
     ]
    }
   ],
   "source": [
    "print(centroid('test_images/test_image_15.png'))"
   ]
  }
 ],
 "metadata": {
  "kernelspec": {
   "display_name": "BM_1424",
   "language": "python",
   "name": "bm_1424"
  },
  "language_info": {
   "codemirror_mode": {
    "name": "ipython",
    "version": 3
   },
   "file_extension": ".py",
   "mimetype": "text/x-python",
   "name": "python",
   "nbconvert_exporter": "python",
   "pygments_lexer": "ipython3",
   "version": "3.9.7"
  }
 },
 "nbformat": 4,
 "nbformat_minor": 5
}
