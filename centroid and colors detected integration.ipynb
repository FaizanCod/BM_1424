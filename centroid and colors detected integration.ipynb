{
 "cells": [
  {
   "cell_type": "code",
   "execution_count": 1,
   "id": "5afe3742",
   "metadata": {},
   "outputs": [],
   "source": [
    "import cv2\n",
    "import numpy as np"
   ]
  },
  {
   "cell_type": "code",
   "execution_count": 2,
   "id": "003d9c91",
   "metadata": {},
   "outputs": [],
   "source": [
    "def centroid(img):\n",
    "\n",
    "    centroid = []\n",
    "\n",
    "    # reading image and converting it to grayscale\n",
    "    image = cv2.imread(img, cv2.IMREAD_GRAYSCALE)\n",
    "\n",
    "    # Thresholding\n",
    "    _, threshold = cv2.threshold(image, 200, 255, cv2.THRESH_BINARY)\n",
    "\n",
    "    # Contouring\n",
    "    contours,_ = cv2.findContours(threshold, cv2.RETR_TREE, cv2.CHAIN_APPROX_SIMPLE)\n",
    "\n",
    "    # to loop over the contours\n",
    "    i=0\n",
    "    for cnt in contours:\n",
    "    \n",
    "        # here we are ignoring first counter because \n",
    "        # findContours function detects whole image as shape\n",
    "        if i==0:\n",
    "            i=1\n",
    "            continue\n",
    "\n",
    "        M = cv2.moments(cnt)\n",
    "        if M['m00'] != 0.0:\n",
    "            cx = int(M['m10']/M['m00'])\n",
    "            cy = int(M['m01']/M['m00'])\n",
    "\n",
    "        centroid.append((cx,cy))\n",
    "\n",
    "#     print(centroid)\n",
    "    return centroid"
   ]
  },
  {
   "cell_type": "code",
   "execution_count": 39,
   "id": "72a7a23e",
   "metadata": {},
   "outputs": [],
   "source": [
    "def colors_detected(img):\n",
    "    \"\"\"\n",
    "    Purpose:\n",
    "    ---\n",
    "    This function takes the image as argument and returns a dictionary\n",
    "    denoting the color of the shapes in the image.\n",
    "\n",
    "    Input Arguments:\n",
    "    ---\n",
    "    `img` : [ numpy array ]\n",
    "            numpy array of image returned by cv2 library\n",
    "\n",
    "    Returns:\n",
    "    ---\n",
    "    `detected_colors` : {dictionary}\n",
    "            dictionary containing details of colors present in image\n",
    "    \"\"\"\n",
    "    detected_colors = {}\n",
    "\n",
    "    centroids = centroid(img)\n",
    "    \n",
    "    image = cv2.imread(img, cv2.IMREAD_COLOR)\n",
    "#     cv2.imshow(\"Image\", image)\n",
    "#     cv2.waitKey(0)\n",
    "#     cv2.destroyAllWindows()\n",
    "    for cent in centroids:\n",
    "        \n",
    "        # centroid    \n",
    "        cx = cent[0]\n",
    "        cy = cent[1]\n",
    "#         print(cx)\n",
    "#         print(cy)\n",
    "#         print((cx,cy))\n",
    "\n",
    "        # finding out blue, green and red values for the pixel\n",
    "    \n",
    "        # image[y, x] is the correct syntax based on the fact that \n",
    "        # the x-value is the column number (i.e., width), and \n",
    "        # the y-value is the row number (i.e., height).\n",
    "        (b, g, r) = image[cy][cx]\n",
    "#         print(b)\n",
    "#         print(g)\n",
    "#         print(r)\n",
    "        \n",
    "        if (b==0 and g==0 and r==255):\n",
    "#             print(\"Red\")\n",
    "            detected_colors[cx,cy] = ['Red']\n",
    "        elif (b==0 and g==255 and r==0):\n",
    "#             print(\"Green\")\n",
    "            detected_colors[cx,cy] = ['Green']\n",
    "        elif (b==255 and g==0 and r==0):\n",
    "#             print(\"Blue\")\n",
    "            detected_colors[cx,cy] = ['Blue']\n",
    "        else:\n",
    "#             print(\"Orange\")\n",
    "            detected_colors[cx,cy] = ['Orange']\n",
    "\n",
    "    return detected_colors"
   ]
  },
  {
   "cell_type": "code",
   "execution_count": 40,
   "id": "3186e49f",
   "metadata": {},
   "outputs": [
    {
     "name": "stdout",
     "output_type": "stream",
     "text": [
      "{(588, 370): ['Red'], (325, 145): ['Green']}\n"
     ]
    }
   ],
   "source": [
    "print(colors_detected('test_images/test_image_1.png'))"
   ]
  },
  {
   "cell_type": "code",
   "execution_count": 41,
   "id": "663ac41f",
   "metadata": {},
   "outputs": [
    {
     "name": "stdout",
     "output_type": "stream",
     "text": [
      "{(274, 348): ['Blue'], (648, 420): ['Blue'], (766, 165): ['Green'], (301, 118): ['Red']}\n"
     ]
    }
   ],
   "source": [
    "print(colors_detected('test_images/test_image_2.png'))"
   ]
  },
  {
   "cell_type": "code",
   "execution_count": 42,
   "id": "2fb76c92",
   "metadata": {},
   "outputs": [
    {
     "name": "stdout",
     "output_type": "stream",
     "text": [
      "{(467, 467): ['Green'], (425, 272): ['Blue'], (290, 110): ['Green'], (643, 194): ['Red']}\n"
     ]
    }
   ],
   "source": [
    "print(colors_detected('test_images/test_image_3.png'))"
   ]
  },
  {
   "cell_type": "code",
   "execution_count": 43,
   "id": "deff2120",
   "metadata": {},
   "outputs": [
    {
     "name": "stdout",
     "output_type": "stream",
     "text": [
      "{(325, 451): ['Blue'], (249, 199): ['Red'], (588, 226): ['Blue']}\n"
     ]
    }
   ],
   "source": [
    "print(colors_detected('test_images/test_image_4.png'))"
   ]
  },
  {
   "cell_type": "code",
   "execution_count": 44,
   "id": "165d6a0a",
   "metadata": {},
   "outputs": [
    {
     "name": "stdout",
     "output_type": "stream",
     "text": [
      "{(648, 398): ['Red'], (308, 370): ['Green'], (631, 149): ['Blue'], (183, 105): ['Blue']}\n"
     ]
    }
   ],
   "source": [
    "print(colors_detected('test_images/test_image_5.png'))"
   ]
  },
  {
   "cell_type": "code",
   "execution_count": 45,
   "id": "75b00d17",
   "metadata": {},
   "outputs": [
    {
     "name": "stdout",
     "output_type": "stream",
     "text": [
      "{(274, 348): ['Blue'], (648, 420): ['Blue'], (766, 165): ['Green'], (301, 118): ['Red']}\n"
     ]
    }
   ],
   "source": [
    "print(colors_detected('test_images/test_image_6.png'))"
   ]
  },
  {
   "cell_type": "code",
   "execution_count": 46,
   "id": "146edf5f",
   "metadata": {},
   "outputs": [
    {
     "name": "stdout",
     "output_type": "stream",
     "text": [
      "{(183, 491): ['Blue'], (545, 457): ['Blue'], (648, 199): ['Red'], (308, 226): ['Red'], (103, 108): ['Green']}\n"
     ]
    }
   ],
   "source": [
    "print(colors_detected('test_images/test_image_7.png'))"
   ]
  },
  {
   "cell_type": "code",
   "execution_count": 47,
   "id": "cda3ee1c",
   "metadata": {},
   "outputs": [
    {
     "name": "stdout",
     "output_type": "stream",
     "text": [
      "{(295, 503): ['Blue'], (517, 352): ['Red'], (160, 234): ['Red'], (660, 117): ['Green'], (101, 86): ['Blue']}\n"
     ]
    }
   ],
   "source": [
    "print(colors_detected('test_images/test_image_8.png'))"
   ]
  },
  {
   "cell_type": "code",
   "execution_count": 48,
   "id": "d4876820",
   "metadata": {},
   "outputs": [
    {
     "name": "stdout",
     "output_type": "stream",
     "text": [
      "{(295, 503): ['Blue'], (517, 352): ['Blue'], (197, 246): ['Green'], (660, 117): ['Green'], (101, 86): ['Blue']}\n"
     ]
    }
   ],
   "source": [
    "print(colors_detected('test_images/test_image_9.png'))"
   ]
  },
  {
   "cell_type": "code",
   "execution_count": 49,
   "id": "0a0d2522",
   "metadata": {},
   "outputs": [
    {
     "name": "stdout",
     "output_type": "stream",
     "text": [
      "{(788, 476): ['Red'], (420, 453): ['Red'], (107, 340): ['Red'], (184, 212): ['Blue'], (91, 89): ['Blue']}\n"
     ]
    }
   ],
   "source": [
    "print(colors_detected('test_images/test_image_10.png'))"
   ]
  },
  {
   "cell_type": "code",
   "execution_count": 50,
   "id": "d2f9e0f7",
   "metadata": {},
   "outputs": [
    {
     "name": "stdout",
     "output_type": "stream",
     "text": [
      "{(467, 467): ['Blue'], (425, 272): ['Blue'], (290, 110): ['Red'], (643, 194): ['Red']}\n"
     ]
    }
   ],
   "source": [
    "print(colors_detected('test_images/test_image_11.png'))"
   ]
  },
  {
   "cell_type": "code",
   "execution_count": 51,
   "id": "7b971b4b",
   "metadata": {},
   "outputs": [
    {
     "name": "stdout",
     "output_type": "stream",
     "text": [
      "{(788, 476): ['Red'], (420, 453): ['Red'], (107, 340): ['Red'], (184, 212): ['Blue'], (91, 89): ['Blue']}\n"
     ]
    }
   ],
   "source": [
    "print(colors_detected('test_images/test_image_12.png'))"
   ]
  },
  {
   "cell_type": "code",
   "execution_count": 52,
   "id": "b43bff19",
   "metadata": {},
   "outputs": [
    {
     "name": "stdout",
     "output_type": "stream",
     "text": [
      "{(452, 504): ['Orange'], (778, 482): ['Green'], (650, 401): ['Blue'], (529, 325): ['Red'], (121, 220): ['Red'], (646, 199): ['Blue']}\n"
     ]
    }
   ],
   "source": [
    "print(colors_detected('test_images/test_image_13.png'))"
   ]
  },
  {
   "cell_type": "code",
   "execution_count": 53,
   "id": "f22c78a4",
   "metadata": {},
   "outputs": [
    {
     "name": "stdout",
     "output_type": "stream",
     "text": [
      "{(254, 340): ['Blue'], (308, 248): ['Orange'], (215, 247): ['Red'], (372, 182): ['Orange'], (161, 183): ['Red'], (101, 101): ['Red'], (455, 98): ['Orange']}\n"
     ]
    }
   ],
   "source": [
    "print(colors_detected('test_images/test_image_14.png'))"
   ]
  },
  {
   "cell_type": "code",
   "execution_count": 54,
   "id": "fd9a8ac9",
   "metadata": {},
   "outputs": [
    {
     "name": "stdout",
     "output_type": "stream",
     "text": [
      "{(82, 509): ['Blue'], (601, 506): ['Orange'], (317, 320): ['Blue'], (602, 234): ['Orange'], (201, 218): ['Red'], (292, 161): ['Blue'], (395, 165): ['Red'], (203, 98): ['Red'], (793, 96): ['Blue']}\n"
     ]
    }
   ],
   "source": [
    "print(colors_detected('test_images/test_image_15.png'))"
   ]
  }
 ],
 "metadata": {
  "kernelspec": {
   "display_name": "BM_1424",
   "language": "python",
   "name": "bm_1424"
  },
  "language_info": {
   "codemirror_mode": {
    "name": "ipython",
    "version": 3
   },
   "file_extension": ".py",
   "mimetype": "text/x-python",
   "name": "python",
   "nbconvert_exporter": "python",
   "pygments_lexer": "ipython3",
   "version": "3.9.7"
  }
 },
 "nbformat": 4,
 "nbformat_minor": 5
}
