{
 "cells": [
  {
   "cell_type": "code",
   "execution_count": 18,
   "id": "5d6cc596",
   "metadata": {},
   "outputs": [],
   "source": [
    "import cv2\n",
    "import numpy as np"
   ]
  },
  {
   "cell_type": "code",
   "execution_count": 19,
   "id": "03083444",
   "metadata": {},
   "outputs": [],
   "source": [
    "def shapes(img):\n",
    "\n",
    "    img_shapes = {}\n",
    "    # reading image and converting it to grayscale\n",
    "    image = cv2.imread(img, cv2.IMREAD_GRAYSCALE)\n",
    "\n",
    "    # Thresholding\n",
    "    _, threshold = cv2.threshold(image, 200, 255, cv2.THRESH_BINARY)\n",
    "\n",
    "    # Contouring\n",
    "    contours,_ = cv2.findContours(threshold, cv2.RETR_TREE, cv2.CHAIN_APPROX_SIMPLE)\n",
    "\n",
    "    #to loop over the contours\n",
    "    i=0\n",
    "    for cnt in contours:\n",
    "    \n",
    "        # ignoring first counter because \n",
    "        # findcontour function detects whole image as one shape\n",
    "        if i==0:\n",
    "            i=1\n",
    "            continue\n",
    "\n",
    "        # approximating\n",
    "        approx = cv2.approxPolyDP(cnt, 0.025*cv2.arcLength(cnt, True), True)\n",
    "\n",
    "#         # finding out the top coordinates of each shape\n",
    "#         x = approx.ravel()[0]\n",
    "#         y = approx.ravel()[1]\n",
    "        M = cv2.moments(cnt)\n",
    "        if M['m00'] != 0.0:\n",
    "            cx = int(M['m10']/M['m00'])\n",
    "            cy = int(M['m01']/M['m00'])\n",
    "#         print(cx,cy)\n",
    "\n",
    "        # putting shape name\n",
    "        if len(approx) == 3:\n",
    "            img_shapes[cx,cy] = ['Triangle']\n",
    "  \n",
    "        elif len(approx) == 4:\n",
    "        \n",
    "            # for distinguishing between rectangle and square\n",
    "            x, y, w, h = cv2.boundingRect(approx)\n",
    "\n",
    "            aspectRatio = float (w)/h\n",
    "            if aspectRatio >= 0.95 and aspectRatio <= 1.05:\n",
    "                img_shapes[cx,cy] = ['Square']\n",
    "            else:\n",
    "                img_shapes[cx,cy] = ['Rectangle']\n",
    "\n",
    "        elif (len(approx) == 5):\n",
    "             img_shapes[cx,cy] = ['Pentagon']\n",
    "  \n",
    "        else:\n",
    "             img_shapes[cx,cy] = ['Circle']\n",
    "\n",
    "    return img_shapes"
   ]
  },
  {
   "cell_type": "code",
   "execution_count": 20,
   "id": "da0625df",
   "metadata": {},
   "outputs": [
    {
     "name": "stdout",
     "output_type": "stream",
     "text": [
      "{(588, 370): ['Circle'], (325, 145): ['Square']}\n"
     ]
    }
   ],
   "source": [
    "print(shapes('test_images/test_image_1.png'))"
   ]
  },
  {
   "cell_type": "code",
   "execution_count": 21,
   "id": "2c13330e",
   "metadata": {},
   "outputs": [
    {
     "name": "stdout",
     "output_type": "stream",
     "text": [
      "{(274, 348): ['Circle'], (648, 420): ['Pentagon'], (766, 165): ['Triangle'], (301, 118): ['Rectangle']}\n"
     ]
    }
   ],
   "source": [
    "print(shapes('test_images/test_image_2.png'))"
   ]
  },
  {
   "cell_type": "code",
   "execution_count": 22,
   "id": "c650b908",
   "metadata": {},
   "outputs": [
    {
     "name": "stdout",
     "output_type": "stream",
     "text": [
      "{(467, 467): ['Rectangle'], (425, 272): ['Square'], (290, 110): ['Circle'], (643, 194): ['Triangle']}\n"
     ]
    }
   ],
   "source": [
    "print(shapes('test_images/test_image_3.png'))"
   ]
  },
  {
   "cell_type": "code",
   "execution_count": 23,
   "id": "3b189163",
   "metadata": {},
   "outputs": [
    {
     "name": "stdout",
     "output_type": "stream",
     "text": [
      "{(325, 451): ['Square'], (249, 199): ['Rectangle'], (588, 226): ['Circle']}\n"
     ]
    }
   ],
   "source": [
    "print(shapes('test_images/test_image_4.png'))"
   ]
  },
  {
   "cell_type": "code",
   "execution_count": 24,
   "id": "68bfe9bb",
   "metadata": {},
   "outputs": [
    {
     "name": "stdout",
     "output_type": "stream",
     "text": [
      "{(648, 398): ['Rectangle'], (308, 370): ['Circle'], (631, 149): ['Circle'], (183, 105): ['Square']}\n"
     ]
    }
   ],
   "source": [
    "print(shapes('test_images/test_image_5.png'))"
   ]
  },
  {
   "cell_type": "code",
   "execution_count": 25,
   "id": "c5c2ba0c",
   "metadata": {},
   "outputs": [
    {
     "name": "stdout",
     "output_type": "stream",
     "text": [
      "{(274, 348): ['Circle'], (648, 420): ['Pentagon'], (766, 165): ['Triangle'], (301, 118): ['Rectangle']}\n"
     ]
    }
   ],
   "source": [
    "print(shapes('test_images/test_image_6.png'))"
   ]
  },
  {
   "cell_type": "code",
   "execution_count": 26,
   "id": "f9615d0c",
   "metadata": {},
   "outputs": [
    {
     "name": "stdout",
     "output_type": "stream",
     "text": [
      "{(183, 491): ['Square'], (545, 457): ['Pentagon'], (648, 199): ['Rectangle'], (308, 226): ['Circle'], (103, 108): ['Pentagon']}\n"
     ]
    }
   ],
   "source": [
    "print(shapes('test_images/test_image_7.png'))"
   ]
  },
  {
   "cell_type": "code",
   "execution_count": 27,
   "id": "572e763b",
   "metadata": {},
   "outputs": [
    {
     "name": "stdout",
     "output_type": "stream",
     "text": [
      "{(295, 503): ['Circle'], (517, 352): ['Pentagon'], (160, 234): ['Pentagon'], (660, 117): ['Triangle'], (101, 86): ['Square']}\n"
     ]
    }
   ],
   "source": [
    "print(shapes('test_images/test_image_8.png'))"
   ]
  },
  {
   "cell_type": "code",
   "execution_count": 28,
   "id": "8a4f39e1",
   "metadata": {},
   "outputs": [
    {
     "name": "stdout",
     "output_type": "stream",
     "text": [
      "{(295, 503): ['Circle'], (517, 352): ['Pentagon'], (197, 246): ['Rectangle'], (660, 117): ['Triangle'], (101, 86): ['Square']}\n"
     ]
    }
   ],
   "source": [
    "print(shapes('test_images/test_image_9.png'))"
   ]
  },
  {
   "cell_type": "code",
   "execution_count": 29,
   "id": "5dbf114d",
   "metadata": {},
   "outputs": [
    {
     "name": "stdout",
     "output_type": "stream",
     "text": [
      "{(788, 476): ['Circle'], (420, 453): ['Rectangle'], (107, 340): ['Circle'], (184, 212): ['Triangle'], (91, 89): ['Triangle']}\n"
     ]
    }
   ],
   "source": [
    "print(shapes('test_images/test_image_10.png'))"
   ]
  },
  {
   "cell_type": "code",
   "execution_count": 30,
   "id": "f1d2fee9",
   "metadata": {},
   "outputs": [
    {
     "name": "stdout",
     "output_type": "stream",
     "text": [
      "{(467, 467): ['Rectangle'], (425, 272): ['Square'], (290, 110): ['Circle'], (643, 194): ['Triangle']}\n"
     ]
    }
   ],
   "source": [
    "print(shapes('test_images/test_image_11.png'))"
   ]
  },
  {
   "cell_type": "code",
   "execution_count": 31,
   "id": "738f7c46",
   "metadata": {},
   "outputs": [
    {
     "name": "stdout",
     "output_type": "stream",
     "text": [
      "{(788, 476): ['Circle'], (420, 453): ['Rectangle'], (107, 340): ['Circle'], (184, 212): ['Triangle'], (91, 89): ['Triangle']}\n"
     ]
    }
   ],
   "source": [
    "print(shapes('test_images/test_image_12.png'))"
   ]
  },
  {
   "cell_type": "code",
   "execution_count": 32,
   "id": "3f9b99d4",
   "metadata": {},
   "outputs": [
    {
     "name": "stdout",
     "output_type": "stream",
     "text": [
      "{(452, 504): ['Triangle'], (778, 482): ['Square'], (650, 401): ['Rectangle'], (529, 325): ['Circle'], (121, 220): ['Rectangle'], (646, 199): ['Triangle']}\n"
     ]
    }
   ],
   "source": [
    "print(shapes('test_images/test_image_13.png'))"
   ]
  },
  {
   "cell_type": "code",
   "execution_count": 33,
   "id": "909fbe09",
   "metadata": {},
   "outputs": [
    {
     "name": "stdout",
     "output_type": "stream",
     "text": [
      "{(254, 340): ['Triangle'], (308, 248): ['Square'], (215, 247): ['Circle'], (372, 182): ['Square'], (161, 183): ['Circle'], (101, 101): ['Circle'], (455, 98): ['Square']}\n"
     ]
    }
   ],
   "source": [
    "print(shapes('test_images/test_image_14.png'))"
   ]
  },
  {
   "cell_type": "code",
   "execution_count": 34,
   "id": "da1f5209",
   "metadata": {},
   "outputs": [
    {
     "name": "stdout",
     "output_type": "stream",
     "text": [
      "{(82, 509): ['Circle'], (601, 506): ['Triangle'], (317, 320): ['Circle'], (602, 234): ['Triangle'], (201, 218): ['Square'], (292, 161): ['Circle'], (395, 165): ['Square'], (203, 98): ['Square'], (793, 96): ['Circle']}\n"
     ]
    }
   ],
   "source": [
    "print(shapes('test_images/test_image_15.png'))"
   ]
  }
 ],
 "metadata": {
  "kernelspec": {
   "display_name": "BM_1424",
   "language": "python",
   "name": "bm_1424"
  },
  "language_info": {
   "codemirror_mode": {
    "name": "ipython",
    "version": 3
   },
   "file_extension": ".py",
   "mimetype": "text/x-python",
   "name": "python",
   "nbconvert_exporter": "python",
   "pygments_lexer": "ipython3",
   "version": "3.9.7"
  }
 },
 "nbformat": 4,
 "nbformat_minor": 5
}
