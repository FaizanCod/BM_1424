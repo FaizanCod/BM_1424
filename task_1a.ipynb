{
 "cells": [
  {
   "cell_type": "code",
   "execution_count": null,
   "metadata": {},
   "outputs": [],
   "source": [
    "import cv2\n",
    "import numpy as np"
   ]
  },
  {
   "cell_type": "code",
   "execution_count": null,
   "metadata": {},
   "outputs": [],
   "source": [
    "# reading image and converting it to grayscale\n",
    "img = cv2.imread('test_images/test_image_1.png', cv2.IMREAD_GRAYSCALE)\n",
    "  \n",
    "# # converting image into grayscale image\n",
    "# gray = cv2.cvtColor(img, cv2.COLOR_BGR2GRAY)"
   ]
  },
  {
   "cell_type": "markdown",
   "metadata": {},
   "source": [
    "Converting to grayscale allows for easy detection of objects, but still different colours give different gradients of gray, so it is necessary to threshold them to find contours.\n",
    "Thresholding is a very popular segmentation technique, used for separating an object considered as a foreground from its background."
   ]
  },
  {
   "cell_type": "markdown",
   "metadata": {},
   "source": [
    "The function used is cv2.threshold. First argument is the source image, which should be a grayscale image. Second argument is the threshold value which is used to classify the pixel values. Third argument is the maxVal which represents the value to be given if pixel value is more than the threshold value. OpenCV provides different styles of thresholding and it is decided by the fourth parameter of the function.\n",
    "\n",
    "cv2.THRESH_BINARY: If pixel intensity is greater than the set threshold, value set to 255, else set to 0 (black)."
   ]
  },
  {
   "cell_type": "markdown",
   "metadata": {},
   "source": [
    "Syntax: cv2.threshold(source, thresholdValue, maxVal, thresholdingTechnique) \n",
    "Parameters: \n",
    "-> source: Input Image array (must be in Grayscale). \n",
    "-> thresholdValue:(all pixel values above this value will be changed to white(255), whereas other values to be changed to black(0)).\n",
    "-> maxVal: Maximum value that can be assigned to a pixel. \n",
    "-> thresholdingTechnique: The type of thresholding to be applied. "
   ]
  },
  {
   "cell_type": "markdown",
   "metadata": {},
   "source": [
    "cv2.threshold returns two values, only one is needed for shape detection"
   ]
  },
  {
   "cell_type": "code",
   "execution_count": null,
   "metadata": {},
   "outputs": [],
   "source": [
    "_, threshold = cv2.threshold(img, 200, 255, cv2.THRESH_BINARY)"
   ]
  },
  {
   "cell_type": "markdown",
   "metadata": {},
   "source": [
    "Contours can be explained simply as a curve joining all the continuous points (along the boundary), having same color or intensity.\n",
    "\n",
    "There are three arguments in cv2.findContours() function, first one is source image, second is contour retrieval mode, third is contour approximation method. And it outputs the contours and hierarchy.\n",
    "\n",
    "The mode cv2.RETR_TREE finds all the promising contour lines and reconstructs a full hierarchy of nested contours. The method cv2.CHAIN_APPROX_SIMPLE returns only the endpoints that are necessary for drawing the contour line. It removes all redundant points and compresses the contour, thereby saving memory (as compared to cv2.CHAIN_APPROX_NONE, which stores all points)"
   ]
  },
  {
   "cell_type": "code",
   "execution_count": null,
   "metadata": {},
   "outputs": [],
   "source": [
    "contours,_ = cv2.findContours(threshold, cv2.RETR_TREE, cv2.CHAIN_APPROX_SIMPLE)"
   ]
  },
  {
   "cell_type": "markdown",
   "metadata": {},
   "source": [
    "cv2.drawContours\n",
    "First argument is source and destination image, second argument is the contours which should be passed as a Python list, third argument is index of contours (useful when drawing individual contour. To draw all contours, pass -1) and remaining arguments are color, thickness etc.\n",
    "We'll count the vertices as the intersecting points of the contours to determine the shape.\n",
    "\n",
    "This may have errorenous contours near the vertices, so we use approximation.\n",
    "cv2.approxPolyDP(input_curve, epsilon, closed)\n",
    "It approximates a contour shape to another shape with less number of vertices depending upon the precision we specify.\n",
    "Second argument is called epsilon, which is maximum distance from contour to approximated contour. It is an accuracy parameter. A wise selection of epsilon is needed to get the correct output. The third argument is True, which indicates that the shape is closed.\n",
    "    cv2.arcLength() is used to calculate the perimeter of the contour(cnt) and takes 1% (0.01) of this length for cv2.approxPolyDP as epsilon. If the second argument is True then it considers the contour to be closed. "
   ]
  },
  {
   "cell_type": "code",
   "execution_count": null,
   "metadata": {},
   "outputs": [],
   "source": [
    "#to loop over the contours\n",
    "for cnt in contours:\n",
    "    \n",
    "    # using drawContours() function (non-approximated)\n",
    "    #cv2.drawContours(img, [contour], 0, (0, 0, 255), 5)\n",
    "    \n",
    "    #approximating\n",
    "    approx = cv2.approxPolyDP(cnt, 0.01*cv2.arcLength(cnt, True), True)\n",
    "    \n",
    "    cv2.drawContours(img, [approx], 0, (0), 5)\n",
    "  \n",
    "    # # finding center point of shape\n",
    "    # M = cv2.moments(cnt)\n",
    "    # if M['m00'] != 0.0:\n",
    "    #     x = int(M['m10']/M['m00'])\n",
    "    #     y = int(M['m01']/M['m00'])\n",
    "  \n",
    "    # # putting shape name at center of each shape\n",
    "    # if len(approx) == 3:\n",
    "    #     cv2.putText(img, 'Triangle', (x, y),\n",
    "    #                 cv2.FONT_HERSHEY_SIMPLEX, 0.6, (255, 255, 255), 2)\n",
    "  \n",
    "    # elif len(approx) == 4:\n",
    "    #     cv2.putText(img, 'Square', (x, y),\n",
    "    #                 cv2.FONT_HERSHEY_SIMPLEX, 0.6, (255, 255, 255), 2)\n",
    "  \n",
    "    # elif len(approx) == 5:\n",
    "    #     cv2.putText(img, 'Pentagon', (x, y),\n",
    "    #                 cv2.FONT_HERSHEY_SIMPLEX, 0.6, (255, 255, 255), 2)\n",
    "  \n",
    "    # elif len(approx) == 6:\n",
    "    #     cv2.putText(img, 'Hexagon', (x, y),\n",
    "    #                 cv2.FONT_HERSHEY_SIMPLEX, 0.6, (255, 255, 255), 2)\n",
    "  \n",
    "    # else:\n",
    "    #     cv2.putText(img, 'circle', (x, y),\n",
    "    #                 cv2.FONT_HERSHEY_SIMPLEX, 0.6, (255, 255, 255), 2)"
   ]
  },
  {
   "cell_type": "code",
   "execution_count": null,
   "metadata": {},
   "outputs": [],
   "source": [
    "cv2.imshow(\"shapes\", img)\n",
    "cv2.imshow(\"Thresholded\", threshold)\n",
    "cv2.waitKey(0)\n",
    "cv2.destroyAllWindows()"
   ]
  }
 ],
 "metadata": {
  "interpreter": {
   "hash": "389ac146d8a07d7e99ae9dedf984517cf329a542bee82cad8836b84c093c56c0"
  },
  "kernelspec": {
   "display_name": "Python 3 (ipykernel)",
   "language": "python",
   "name": "python3"
  },
  "language_info": {
   "codemirror_mode": {
    "name": "ipython",
    "version": 3
   },
   "file_extension": ".py",
   "mimetype": "text/x-python",
   "name": "python",
   "nbconvert_exporter": "python",
   "pygments_lexer": "ipython3",
   "version": "3.9.7"
  }
 },
 "nbformat": 4,
 "nbformat_minor": 2
}
